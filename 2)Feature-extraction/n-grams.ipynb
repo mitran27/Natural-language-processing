{
 "cells": [
  {
   "cell_type": "markdown",
   "metadata": {},
   "source": [
    "# Language Model\n",
    "    Learning to predict probability of sequence of words\n",
    "    \n",
    " ## Why language model  ??\n",
    " When we translate a language (or) answer a question (or) respond a chat (or) summarize a paragraph we get sequence of words \n",
    " But these words must be in a specific order Eg \"how are you\" ==>\"how=fine\",\"Are==am\",\"you==i\"  but fine am i is not perfect\n",
    " so language modelling is important for NLP\n",
    " \n",
    " ### how Language modelliing deals ?\n",
    " P(the cat is on the wall) > P(cat on wall the is below)\n",
    " #####             language modlling assigns high probability to well formed sentence\n",
    " > rule based : prob(b/a) if ab are repeated many time subsequently its probability increases\n",
    " \n",
    " > neural models  :  more the number of same sentence its increases the probability of it in the weights for the subsequent word increases in  the neural network (EG if cat is present the weights for 'is' would be high bcz next word for 'is' would be given and optimisers tend to increase prob of \"is\" according to the loss )\n",
    " \n",
    " "
   ]
  },
  {
   "cell_type": "markdown",
   "metadata": {},
   "source": [
    "Telling the above in technical terms\n",
    "## Types of Language Models\n",
    "There are primarily two types of Language Models:\n",
    "\n",
    "### Statistical Language Models: \n",
    "These models use traditional statistical techniques like N-grams, Hidden Markov Models (HMM) and certain linguistic rules to learn the probability distribution of words\n",
    "### Neural Language Models: \n",
    "These are new players in the NLP town and use different kinds of Neural Networks to model language"
   ]
  },
  {
   "cell_type": "markdown",
   "metadata": {},
   "source": [
    "# An N-gram is a sequence of N tokens (or words)"
   ]
  },
  {
   "cell_type": "markdown",
   "metadata": {},
   "source": [
    "If we have a good N-gram model, we can predict p(w | h) — what is the probability of seeing the word w given a history of previous words h — where the history contains n-1 words."
   ]
  },
  {
   "cell_type": "code",
   "execution_count": 3,
   "metadata": {},
   "outputs": [],
   "source": [
    "# importing the libraries\n",
    "import numpy as np\n",
    "import re"
   ]
  },
  {
   "cell_type": "code",
   "execution_count": 57,
   "metadata": {},
   "outputs": [],
   "source": [
    "paragraph=\"we are boys we are girls we are having fun we are boys\""
   ]
  },
  {
   "cell_type": "code",
   "execution_count": 58,
   "metadata": {},
   "outputs": [
    {
     "name": "stdout",
     "output_type": "stream",
     "text": [
      "['we', 'are', 'boys', 'we', 'are', 'girls', 'we', 'are', 'having', 'fun', 'we', 'are', 'boys']\n"
     ]
    }
   ],
   "source": [
    "#since chain rule does heavy computation we will be using markov assumption\n",
    "para = re.sub(r'[^\\w\\s]', '', paragraph) \n",
    "para=para.lower()\n",
    "para_tokenised=list(para.split())\n",
    "print(para_tokenised)"
   ]
  },
  {
   "attachments": {
    "conditional-probability-formula.png": {
     "image/png": "[encoded data removed]"
    }
   },
   "cell_type": "markdown",
   "metadata": {},
   "source": [
    " lets initially do bigrams where n=2\n",
    "![conditional-probability-formula.png](attachment:conditional-probability-formula.png) \n",
    "\n",
    "## prob(vision/computer) =prob(no of \"computer vision\")/prob(no of \"computer\")\n",
    "    \n",
    "    "
   ]
  },
  {
   "cell_type": "code",
   "execution_count": 59,
   "metadata": {},
   "outputs": [
    {
     "name": "stdout",
     "output_type": "stream",
     "text": [
      "[5, 4, 1, 5, 4, 0, 5, 4, 2, 3, 5, 4, 1]\n"
     ]
    }
   ],
   "source": [
    "corpus=set(para_tokenised)\n",
    "word2id={w:i for i,w in enumerate(corpus)}\n",
    "id2word={i:w for i,w in enumerate(corpus)}\n",
    "new_data=[]\n",
    "for i in para_tokenised:\n",
    "    new_data.append(word2id[i])\n",
    "toy_corpus=new_data\n",
    "print(toy_corpus)"
   ]
  },
  {
   "cell_type": "code",
   "execution_count": null,
   "metadata": {},
   "outputs": [],
   "source": [
    "def check(s,t):\n",
    "    s=list(s)\n",
    "    l=list(t)\n",
    "   \n",
    "    assert(len(s)==len(t))\n",
    "    for i,j in zip(s,t):\n",
    "        if(i!=j):\n",
    "            return False\n",
    "    return True\n",
    "        \n",
    "def get_ngrams(b,a,n,corpus):\n",
    "    #p(b/a)\n",
    "    p_ab=0\n",
    "   \n",
    "\n",
    "    gram=b.copy()\n",
    "    \n",
    "    gram.append(a)\n",
    "   \n",
    "    assert(len(gram)==n)\n",
    "    p_b=0\n",
    "    for i in range(len(corpus)-(n-1)):\n",
    "        if(check(corpus[i:i+n],gram)):\n",
    "            p_ab+=1\n",
    "        if(check(corpus[i:i+n-1],b)):\n",
    "            p_b+=1\n",
    "    return p_ab/p_b\n",
    "\n",
    "his=input(\"enter sentence\\t\")\n",
    "pred=input(\"enter pred sentece\\t\")\n",
    "b=[]\n",
    "for i in his.split():\n",
    "    b.append(word2id[i])\n",
    "\n",
    "\n",
    "\n",
    "a=word2id[pred]\n",
    "n= len(b)+1\n",
    "get_ngrams(b,a,n,toy_corpus)\n",
    "        \n",
    "        \n",
    "# to predict ==> when history give each word of corpus as 'a' and get the highest probability\n",
    "    "
   ]
  }
 ],
 "metadata": {
  "kernelspec": {
   "display_name": "Python 3",
   "language": "python",
   "name": "python3"
  },
  "language_info": {
   "codemirror_mode": {
    "name": "ipython",
    "version": 3
   },
   "file_extension": ".py",
   "mimetype": "text/x-python",
   "name": "python",
   "nbconvert_exporter": "python",
   "pygments_lexer": "ipython3",
   "version": "3.8.3"
  }
 },
 "nbformat": 4,
 "nbformat_minor": 4
}
