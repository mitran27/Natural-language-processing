{
  "nbformat": 4,
  "nbformat_minor": 0,
  "metadata": {
    "colab": {
      "name": "Copy of negativesampling(analogy).ipynb",
      "provenance": [],
      "collapsed_sections": [],
      "toc_visible": true
    },
    "kernelspec": {
      "display_name": "Python 3",
      "language": "python",
      "name": "python3"
    },
    "language_info": {
      "codemirror_mode": {
        "name": "ipython",
        "version": 3
      },
      "file_extension": ".py",
      "mimetype": "text/x-python",
      "name": "python",
      "nbconvert_exporter": "python",
      "pygments_lexer": "ipython3",
      "version": "3.8.3"
    }
  },
  "cells": [
    {
      "cell_type": "markdown",
      "metadata": {
        "id": "K7Ty1OnECcya"
      },
      "source": [
        "# Word Analogy using Word Embedding\n",
        "\n",
        "Analogy  -  a thing which is comparable to something else in significant respects.\n",
        "\n",
        "Word embedding is the collective name for a set of language modeling and feature learning techniques in natural language processing\n",
        "\n",
        "\n",
        "\n",
        "the aim of this blog is to prove King-Men+Women=Queen\n",
        "\n"
      ]
    },
    {
      "cell_type": "markdown",
      "metadata": {
        "id": "rBbsac7YCcyf"
      },
      "source": [
        "## WORD Embedding\n",
        "###  is a real-valued vector representation\n",
        "### of words by embedding both semantic and syntactic meanings\n",
        "###  obtained from unlabeled large corpus"
      ]
    },
    {
      "cell_type": "markdown",
      "metadata": {
        "id": "wvt6coX7Ccyf"
      },
      "source": [
        "## Word Embedding VS Feed Forward Network\n",
        "\n",
        "*the input of feed forward neural network must be one hot encoding to get featured vectors\n",
        "  one-hot encoding  has two main drawbacks\n",
        "  \n",
        "> high-cardinality variables — those with many unique categories — the dimensionality of the transformed vector becomes unmanageable.\n",
        "\n",
        "> The mapping is completely uninformed: “similar” categories are not placed closer to each other in embedding space.\n",
        "\n",
        "\n",
        "\n",
        "\n",
        "\n",
        "\n",
        "\n",
        "\n",
        "\n"
      ]
    },
    {
      "cell_type": "markdown",
      "metadata": {
        "id": "Em3YsAWSCcyg"
      },
      "source": [
        "## Will Feed forward Neural Network learn word Embeding ?\n",
        "   Yes But .....\n",
        "  \n",
        "\n",
        "\n",
        "This is related to using  one-hot encoding in a sense that it maps a discrete category (embedding matrix into a vector feature representation(embedding vectors)\n",
        "You could still do this for a neural network but if you use this in a dense layer you would create an enormous amount of weights of which most of them are not used regularly (one hot encoding uses many zeros). Putting an embedding layer in between reduces the amount of learnable weights (since is refernces a row and not perform any multiplication ) before feeding them to interact with other parts of your input. \n",
        "   \n"
      ]
    },
    {
      "cell_type": "markdown",
      "metadata": {
        "id": "StQXWUweCcyg"
      },
      "source": [
        "# Architecture\n",
        " \n",
        " it is a neural network with\n",
        " \n",
        " * input layer\n",
        " * hidden layer\n",
        " * output layer\n",
        " "
      ]
    },
    {
      "cell_type": "code",
      "metadata": {
        "id": "0LD55PSNCcyg",
        "colab": {
          "base_uri": "https://localhost:8080/",
          "height": 450
        },
        "outputId": "174d0169-dd26-4680-87af-95be526ef913"
      },
      "source": [
        "import pandas as pd\n",
        "from string import punctuation\n",
        "#available at https://www.kaggle.com/jrobischon/wikipedia-movie-plots \n",
        "df=pd.read_csv(\"/content/drive/My Drive/wiki_movie_plots_deduped.csv\")[:15000]\n",
        "\n",
        "clear_punct_regex = \"[\" + punctuation + \"\\d\\r\\n]\"\n",
        "corpus = df['Plot'].str.replace(clear_punct_regex, \"\").str.lower()\n",
        "corpus = \" \".join(corpus)\n",
        "corpus=corpus.lower()\n",
        "corpus=corpus.replace(\"\\n,\\t\", \"\")\n",
        "\n",
        "dataset=[]\n",
        "dataset.append(corpus)\n",
        "     \n"
      ],
      "execution_count": null,
      "outputs": [
        {
          "output_type": "error",
          "ename": "FileNotFoundError",
          "evalue": "ignored",
          "traceback": [
            "\u001b[0;31m---------------------------------------------------------------------------\u001b[0m",
            "\u001b[0;31mFileNotFoundError\u001b[0m                         Traceback (most recent call last)",
            "\u001b[0;32m<ipython-input-1-709aea685b07>\u001b[0m in \u001b[0;36m<module>\u001b[0;34m()\u001b[0m\n\u001b[1;32m      2\u001b[0m \u001b[0;32mfrom\u001b[0m \u001b[0mstring\u001b[0m \u001b[0;32mimport\u001b[0m \u001b[0mpunctuation\u001b[0m\u001b[0;34m\u001b[0m\u001b[0;34m\u001b[0m\u001b[0m\n\u001b[1;32m      3\u001b[0m \u001b[0;31m#available at https://www.kaggle.com/jrobischon/wikipedia-movie-plots\u001b[0m\u001b[0;34m\u001b[0m\u001b[0;34m\u001b[0m\u001b[0;34m\u001b[0m\u001b[0m\n\u001b[0;32m----> 4\u001b[0;31m \u001b[0mdf\u001b[0m\u001b[0;34m=\u001b[0m\u001b[0mpd\u001b[0m\u001b[0;34m.\u001b[0m\u001b[0mread_csv\u001b[0m\u001b[0;34m(\u001b[0m\u001b[0;34m\"/content/drive/My Drive/wiki_movie_plots_deduped.csv\"\u001b[0m\u001b[0;34m)\u001b[0m\u001b[0;34m[\u001b[0m\u001b[0;34m:\u001b[0m\u001b[0;36m15000\u001b[0m\u001b[0;34m]\u001b[0m\u001b[0;34m\u001b[0m\u001b[0;34m\u001b[0m\u001b[0m\n\u001b[0m\u001b[1;32m      5\u001b[0m \u001b[0;34m\u001b[0m\u001b[0m\n\u001b[1;32m      6\u001b[0m \u001b[0mclear_punct_regex\u001b[0m \u001b[0;34m=\u001b[0m \u001b[0;34m\"[\"\u001b[0m \u001b[0;34m+\u001b[0m \u001b[0mpunctuation\u001b[0m \u001b[0;34m+\u001b[0m \u001b[0;34m\"\\d\\r\\n]\"\u001b[0m\u001b[0;34m\u001b[0m\u001b[0;34m\u001b[0m\u001b[0m\n",
            "\u001b[0;32m/usr/local/lib/python3.6/dist-packages/pandas/io/parsers.py\u001b[0m in \u001b[0;36mread_csv\u001b[0;34m(filepath_or_buffer, sep, delimiter, header, names, index_col, usecols, squeeze, prefix, mangle_dupe_cols, dtype, engine, converters, true_values, false_values, skipinitialspace, skiprows, skipfooter, nrows, na_values, keep_default_na, na_filter, verbose, skip_blank_lines, parse_dates, infer_datetime_format, keep_date_col, date_parser, dayfirst, cache_dates, iterator, chunksize, compression, thousands, decimal, lineterminator, quotechar, quoting, doublequote, escapechar, comment, encoding, dialect, error_bad_lines, warn_bad_lines, delim_whitespace, low_memory, memory_map, float_precision)\u001b[0m\n\u001b[1;32m    686\u001b[0m     )\n\u001b[1;32m    687\u001b[0m \u001b[0;34m\u001b[0m\u001b[0m\n\u001b[0;32m--> 688\u001b[0;31m     \u001b[0;32mreturn\u001b[0m \u001b[0m_read\u001b[0m\u001b[0;34m(\u001b[0m\u001b[0mfilepath_or_buffer\u001b[0m\u001b[0;34m,\u001b[0m \u001b[0mkwds\u001b[0m\u001b[0;34m)\u001b[0m\u001b[0;34m\u001b[0m\u001b[0;34m\u001b[0m\u001b[0m\n\u001b[0m\u001b[1;32m    689\u001b[0m \u001b[0;34m\u001b[0m\u001b[0m\n\u001b[1;32m    690\u001b[0m \u001b[0;34m\u001b[0m\u001b[0m\n",
            "\u001b[0;32m/usr/local/lib/python3.6/dist-packages/pandas/io/parsers.py\u001b[0m in \u001b[0;36m_read\u001b[0;34m(filepath_or_buffer, kwds)\u001b[0m\n\u001b[1;32m    452\u001b[0m \u001b[0;34m\u001b[0m\u001b[0m\n\u001b[1;32m    453\u001b[0m     \u001b[0;31m# Create the parser.\u001b[0m\u001b[0;34m\u001b[0m\u001b[0;34m\u001b[0m\u001b[0;34m\u001b[0m\u001b[0m\n\u001b[0;32m--> 454\u001b[0;31m     \u001b[0mparser\u001b[0m \u001b[0;34m=\u001b[0m \u001b[0mTextFileReader\u001b[0m\u001b[0;34m(\u001b[0m\u001b[0mfp_or_buf\u001b[0m\u001b[0;34m,\u001b[0m \u001b[0;34m**\u001b[0m\u001b[0mkwds\u001b[0m\u001b[0;34m)\u001b[0m\u001b[0;34m\u001b[0m\u001b[0;34m\u001b[0m\u001b[0m\n\u001b[0m\u001b[1;32m    455\u001b[0m \u001b[0;34m\u001b[0m\u001b[0m\n\u001b[1;32m    456\u001b[0m     \u001b[0;32mif\u001b[0m \u001b[0mchunksize\u001b[0m \u001b[0;32mor\u001b[0m \u001b[0miterator\u001b[0m\u001b[0;34m:\u001b[0m\u001b[0;34m\u001b[0m\u001b[0;34m\u001b[0m\u001b[0m\n",
            "\u001b[0;32m/usr/local/lib/python3.6/dist-packages/pandas/io/parsers.py\u001b[0m in \u001b[0;36m__init__\u001b[0;34m(self, f, engine, **kwds)\u001b[0m\n\u001b[1;32m    946\u001b[0m             \u001b[0mself\u001b[0m\u001b[0;34m.\u001b[0m\u001b[0moptions\u001b[0m\u001b[0;34m[\u001b[0m\u001b[0;34m\"has_index_names\"\u001b[0m\u001b[0;34m]\u001b[0m \u001b[0;34m=\u001b[0m \u001b[0mkwds\u001b[0m\u001b[0;34m[\u001b[0m\u001b[0;34m\"has_index_names\"\u001b[0m\u001b[0;34m]\u001b[0m\u001b[0;34m\u001b[0m\u001b[0;34m\u001b[0m\u001b[0m\n\u001b[1;32m    947\u001b[0m \u001b[0;34m\u001b[0m\u001b[0m\n\u001b[0;32m--> 948\u001b[0;31m         \u001b[0mself\u001b[0m\u001b[0;34m.\u001b[0m\u001b[0m_make_engine\u001b[0m\u001b[0;34m(\u001b[0m\u001b[0mself\u001b[0m\u001b[0;34m.\u001b[0m\u001b[0mengine\u001b[0m\u001b[0;34m)\u001b[0m\u001b[0;34m\u001b[0m\u001b[0;34m\u001b[0m\u001b[0m\n\u001b[0m\u001b[1;32m    949\u001b[0m \u001b[0;34m\u001b[0m\u001b[0m\n\u001b[1;32m    950\u001b[0m     \u001b[0;32mdef\u001b[0m \u001b[0mclose\u001b[0m\u001b[0;34m(\u001b[0m\u001b[0mself\u001b[0m\u001b[0;34m)\u001b[0m\u001b[0;34m:\u001b[0m\u001b[0;34m\u001b[0m\u001b[0;34m\u001b[0m\u001b[0m\n",
            "\u001b[0;32m/usr/local/lib/python3.6/dist-packages/pandas/io/parsers.py\u001b[0m in \u001b[0;36m_make_engine\u001b[0;34m(self, engine)\u001b[0m\n\u001b[1;32m   1178\u001b[0m     \u001b[0;32mdef\u001b[0m \u001b[0m_make_engine\u001b[0m\u001b[0;34m(\u001b[0m\u001b[0mself\u001b[0m\u001b[0;34m,\u001b[0m \u001b[0mengine\u001b[0m\u001b[0;34m=\u001b[0m\u001b[0;34m\"c\"\u001b[0m\u001b[0;34m)\u001b[0m\u001b[0;34m:\u001b[0m\u001b[0;34m\u001b[0m\u001b[0;34m\u001b[0m\u001b[0m\n\u001b[1;32m   1179\u001b[0m         \u001b[0;32mif\u001b[0m \u001b[0mengine\u001b[0m \u001b[0;34m==\u001b[0m \u001b[0;34m\"c\"\u001b[0m\u001b[0;34m:\u001b[0m\u001b[0;34m\u001b[0m\u001b[0;34m\u001b[0m\u001b[0m\n\u001b[0;32m-> 1180\u001b[0;31m             \u001b[0mself\u001b[0m\u001b[0;34m.\u001b[0m\u001b[0m_engine\u001b[0m \u001b[0;34m=\u001b[0m \u001b[0mCParserWrapper\u001b[0m\u001b[0;34m(\u001b[0m\u001b[0mself\u001b[0m\u001b[0;34m.\u001b[0m\u001b[0mf\u001b[0m\u001b[0;34m,\u001b[0m \u001b[0;34m**\u001b[0m\u001b[0mself\u001b[0m\u001b[0;34m.\u001b[0m\u001b[0moptions\u001b[0m\u001b[0;34m)\u001b[0m\u001b[0;34m\u001b[0m\u001b[0;34m\u001b[0m\u001b[0m\n\u001b[0m\u001b[1;32m   1181\u001b[0m         \u001b[0;32melse\u001b[0m\u001b[0;34m:\u001b[0m\u001b[0;34m\u001b[0m\u001b[0;34m\u001b[0m\u001b[0m\n\u001b[1;32m   1182\u001b[0m             \u001b[0;32mif\u001b[0m \u001b[0mengine\u001b[0m \u001b[0;34m==\u001b[0m \u001b[0;34m\"python\"\u001b[0m\u001b[0;34m:\u001b[0m\u001b[0;34m\u001b[0m\u001b[0;34m\u001b[0m\u001b[0m\n",
            "\u001b[0;32m/usr/local/lib/python3.6/dist-packages/pandas/io/parsers.py\u001b[0m in \u001b[0;36m__init__\u001b[0;34m(self, src, **kwds)\u001b[0m\n\u001b[1;32m   2008\u001b[0m         \u001b[0mkwds\u001b[0m\u001b[0;34m[\u001b[0m\u001b[0;34m\"usecols\"\u001b[0m\u001b[0;34m]\u001b[0m \u001b[0;34m=\u001b[0m \u001b[0mself\u001b[0m\u001b[0;34m.\u001b[0m\u001b[0musecols\u001b[0m\u001b[0;34m\u001b[0m\u001b[0;34m\u001b[0m\u001b[0m\n\u001b[1;32m   2009\u001b[0m \u001b[0;34m\u001b[0m\u001b[0m\n\u001b[0;32m-> 2010\u001b[0;31m         \u001b[0mself\u001b[0m\u001b[0;34m.\u001b[0m\u001b[0m_reader\u001b[0m \u001b[0;34m=\u001b[0m \u001b[0mparsers\u001b[0m\u001b[0;34m.\u001b[0m\u001b[0mTextReader\u001b[0m\u001b[0;34m(\u001b[0m\u001b[0msrc\u001b[0m\u001b[0;34m,\u001b[0m \u001b[0;34m**\u001b[0m\u001b[0mkwds\u001b[0m\u001b[0;34m)\u001b[0m\u001b[0;34m\u001b[0m\u001b[0;34m\u001b[0m\u001b[0m\n\u001b[0m\u001b[1;32m   2011\u001b[0m         \u001b[0mself\u001b[0m\u001b[0;34m.\u001b[0m\u001b[0munnamed_cols\u001b[0m \u001b[0;34m=\u001b[0m \u001b[0mself\u001b[0m\u001b[0;34m.\u001b[0m\u001b[0m_reader\u001b[0m\u001b[0;34m.\u001b[0m\u001b[0munnamed_cols\u001b[0m\u001b[0;34m\u001b[0m\u001b[0;34m\u001b[0m\u001b[0m\n\u001b[1;32m   2012\u001b[0m \u001b[0;34m\u001b[0m\u001b[0m\n",
            "\u001b[0;32mpandas/_libs/parsers.pyx\u001b[0m in \u001b[0;36mpandas._libs.parsers.TextReader.__cinit__\u001b[0;34m()\u001b[0m\n",
            "\u001b[0;32mpandas/_libs/parsers.pyx\u001b[0m in \u001b[0;36mpandas._libs.parsers.TextReader._setup_parser_source\u001b[0;34m()\u001b[0m\n",
            "\u001b[0;31mFileNotFoundError\u001b[0m: [Errno 2] No such file or directory: '/content/drive/My Drive/wiki_movie_plots_deduped.csv'"
          ]
        }
      ]
    },
    {
      "cell_type": "code",
      "metadata": {
        "id": "ELiyXSLxY6b_"
      },
      "source": [
        "import nltk\r\n",
        "from nltk.corpus import brown\r\n",
        "def get_text_brown():\r\n",
        "    sent= list(brown.sents())\r\n",
        "\r\n",
        "    dataset=[]\r\n",
        "  \r\n",
        "    for i in sent:\r\n",
        "        sentence=[]\r\n",
        "        for word in i:\r\n",
        "          if word not in [\"'\",\"(\",\")\",\".\",\"''\",\"''\",\"``\",\",\"]  :\r\n",
        "            sentence.append(word.lower())\r\n",
        "        dataset.append(\" \".join(sentence))\r\n",
        "    print(len(dataset),\"  setences\")  \r\n",
        "    return dataset"
      ],
      "execution_count": null,
      "outputs": []
    },
    {
      "cell_type": "code",
      "metadata": {
        "colab": {
          "base_uri": "https://localhost:8080/"
        },
        "id": "PdrIe1LCXkrR",
        "outputId": "c5804bab-3ac7-493c-afbf-a58156d6de9d"
      },
      "source": [
        "nltk.download('brown')"
      ],
      "execution_count": null,
      "outputs": [
        {
          "output_type": "stream",
          "text": [
            "[nltk_data] Downloading package brown to /root/nltk_data...\n",
            "[nltk_data]   Unzipping corpora/brown.zip.\n"
          ],
          "name": "stdout"
        },
        {
          "output_type": "execute_result",
          "data": {
            "text/plain": [
              "True"
            ]
          },
          "metadata": {
            "tags": []
          },
          "execution_count": 3
        }
      ]
    },
    {
      "cell_type": "code",
      "metadata": {
        "colab": {
          "base_uri": "https://localhost:8080/"
        },
        "id": "w4cHEYryGzKb",
        "outputId": "7833e75f-917a-4931-f0f3-bbe754d4f86e"
      },
      "source": [
        "dataset=get_text_brown()"
      ],
      "execution_count": null,
      "outputs": [
        {
          "output_type": "stream",
          "text": [
            "57340   setences\n"
          ],
          "name": "stdout"
        }
      ]
    },
    {
      "cell_type": "code",
      "metadata": {
        "id": "gLx2HBxNFNxs",
        "colab": {
          "base_uri": "https://localhost:8080/"
        },
        "outputId": "2ab6afce-d678-47ed-83fe-9f5817fed6b4"
      },
      "source": [
        "from google.colab import drive\n",
        "drive.mount('/content/drive')"
      ],
      "execution_count": null,
      "outputs": [
        {
          "output_type": "stream",
          "text": [
            "Mounted at /content/drive\n"
          ],
          "name": "stdout"
        }
      ]
    },
    {
      "cell_type": "markdown",
      "metadata": {
        "id": "Tb-n5caZCcyh"
      },
      "source": [
        "hyperparameters => window size of the context (w) (to understand context of word )"
      ]
    },
    {
      "cell_type": "code",
      "metadata": {
        "id": "-N3yQFwMCcyh"
      },
      "source": [
        "import numpy as np"
      ],
      "execution_count": null,
      "outputs": []
    },
    {
      "cell_type": "code",
      "metadata": {
        "id": "PPp9fSSkCcyh"
      },
      "source": [
        "class counter():# count the ocurences of words\n",
        "    def count_words(self,corpus,word_limit=1000,clean=False):\n",
        "        self.Tokens=[]\n",
        "        counter={}\n",
        "        for sent in corpus:\n",
        "            if(clean):\n",
        "                sent=self.clean(sent)\n",
        "            text=sent.split() # take the required number of words\n",
        "            self.Tokens.append(text)\n",
        "           \n",
        "            for w in text:\n",
        "                if(w in counter):\n",
        "                    counter[w]+=1\n",
        "                else:\n",
        "                    counter[w]=1\n",
        "        self.C=counter\n",
        "    \n",
        "    def clean(string):\n",
        "        stop_words=[]\n",
        "        string = string.lower()\n",
        "        string = re.sub(r'[^\\w\\s]', '', string) \n",
        "        string = ' '.join([word for word in string.split() if word not in stop_words])\n",
        "        return string\n",
        "    def arrange(self,o):\n",
        "        return sorted(self.C.items(), key=lambda x: x[1],reverse=o)\n",
        "    def most_common(self):\n",
        "        return self.arrange(True)\n",
        "    def least_common(self):\n",
        "        return self.arrange(False)"
      ],
      "execution_count": null,
      "outputs": []
    },
    {
      "cell_type": "code",
      "metadata": {
        "id": "WkOJWyGWCcyh"
      },
      "source": [
        "  \n",
        "def Tokenise(corpus,word_limit=10000000,clean=False):\n",
        "        count=counter()\n",
        "        count.count_words(corpus, word_limit,clean=clean)\n",
        "        \n",
        "        w2i= {w:i for i,(w,c) in enumerate(count.most_common(),start=1)}\n",
        "        i2w= {i:w for  w,i in w2i.items()}\n",
        "        V=len(w2i)\n",
        "        vec_tokens=[]\n",
        "        for sent in count.Tokens:\n",
        "            sent_token=[]\n",
        "            for i in sent :\n",
        "                sent_token.append(w2i[i])\n",
        "            vec_tokens.append(sent_token)\n",
        "            \n",
        "        return w2i,i2w,vec_tokens,V"
      ],
      "execution_count": null,
      "outputs": []
    },
    {
      "cell_type": "code",
      "metadata": {
        "id": "ibDJ0LwMCcyi"
      },
      "source": [
        "vocabulary=set()\n",
        "for sent in dataset:\n",
        "    for w in sent.split():\n",
        "        vocabulary.add(w)\n"
      ],
      "execution_count": null,
      "outputs": []
    },
    {
      "cell_type": "markdown",
      "metadata": {
        "id": "-TTJHSPUCcyi"
      },
      "source": [
        "[dog ,cat,queen ,elephant]\n",
        "[0     1    2      3     ]\n",
        "\n",
        "no way elephant is greater than queen so we are onverting the words to embedding\n",
        "\n",
        "bow,tfidf,ohr do not have a meaning in them\n",
        "\n",
        "# context is the meaning of the word with respect to the nearby words\n",
        "\n",
        "Embedding will get the context of the word in form of vectors\n",
        "\n",
        "![sliding%20window.png](attachment:sliding%20window.png)\n"
      ]
    },
    {
      "cell_type": "markdown",
      "metadata": {
        "id": "sj3PRg-vCcyi"
      },
      "source": [
        "We are going to Build the skip-gram model since it has been shown to produce better word-embeddings than CBOW"
      ]
    },
    {
      "cell_type": "code",
      "metadata": {
        "id": "cI2SE7Z5Ccyi"
      },
      "source": [
        "class layer:\n",
        "    def __init__(self):\n",
        "        self.input=None\n",
        "        self.output=None\n",
        "    def forward(inputs,weight):\n",
        "        raise NotImplementedError\n",
        "    def backward(output,errorrate,learnrate):\n",
        "        raise NotImplementedError\n",
        "def softmax(x,ax=0):\n",
        "    e_x = np.exp(x - np.max(x,axis=ax))\n",
        "    return e_x / e_x.sum(axis=ax)"
      ],
      "execution_count": null,
      "outputs": []
    },
    {
      "cell_type": "code",
      "metadata": {
        "id": "38o0W0i6Ccyj"
      },
      "source": [
        "class Embedding(layer):\n",
        "    def __init__(self,voc_size,embedding_size):\n",
        "        self.emb_mat=np.random.uniform(low = -1, high = 1, size = (voc_size, embedding_size))\n",
        "        self.dim=embedding_size\n",
        "        self.voc_Sze=voc_size\n",
        "        \n",
        "       \n",
        "    def forward(self,dense):\n",
        "        \n",
        "        self.input = dense   \n",
        "        sha=list(dense.shape)\n",
        "        sha.append(self.dim)\n",
        "        self.output=self.emb_mat[dense.reshape(1,-1)].reshape(sha)     # initiall we are reshaping to get only the words to see the look up table\n",
        "        # see the correspong embedding vector of words in the lookup table of all batches in all words in a seq (noofseq,seqlen) and returnits coresponding vectors in a shaped format(batcsize,seqlen,embedsize)\n",
        "        return self.output\n",
        "        \n",
        "        \n",
        "    def backward(self, output_error, lr):\n",
        "        \n",
        "        #input_error = np.dot(output_error, self.emb_mat.T) embeding is the initial layer so no need od derivation of input\n",
        "        o_R=output_error.reshape(-1,self.dim)\n",
        "             \n",
        "        k=self.input.reshape(-1) \n",
        "        o_R = o_R.astype('float64') \n",
        "        \n",
        "       \n",
        "        for i,ind in enumerate(k.T):\n",
        "            self.emb_mat[ind]-=(o_R[i]*lr)  \n",
        "        \n",
        "        return 1\n",
        "    "
      ],
      "execution_count": null,
      "outputs": []
    },
    {
      "cell_type": "markdown",
      "metadata": {
        "id": "m4TW-AYxCcyj"
      },
      "source": [
        "the above method takes lot of computational work \n",
        "let upgrade to skipgram with negative sampling\n",
        "\n",
        "### Initially...\n",
        "\n",
        "we passed the corresponding word to embedding layer , got its dimensions passed to the dense layer to calculate the  probability of context words in the 20K vocabulay , calculated a giant softmax for 20k word caculated loss updated the weights for all 20k vocabulary which was'nt a worth update for non cotext words and took more computational power and time\n",
        "\n",
        "#### Solution :Negative sampling\n",
        "\n",
        "instead of modifying probabilities all the non context words that they are'nt neighbour of given word (0)  let us try to modify some K words that they arent context of the given word so these K negative sampled words will alone back propagate to decrease the context probability of the given word saving a lot more computation\n",
        "\n",
        "instead of calculating context probabilities of all 20k words in the vocabulary we'll be calculating only for the \n",
        "context words and these context words will alone back bropagate to increase probability of the given word\n",
        "\n",
        "so..by this way we can make skip gram more efficient"
      ]
    },
    {
      "cell_type": "markdown",
      "metadata": {
        "id": "L4yGcKmGCcyk"
      },
      "source": [
        "## How to select the negative samples\n",
        "> by Default most frequent words are selected more frequently as a negative samples using a “unigram distribution” but negative samples must be less frequent words\n",
        "\n",
        "probability for picking the word “analogy” would be equal to the number of times “analogy” appears in the corpus, divided the total number of word occurs in the corpus. This is expressed by the following equation:\n",
        "\n",
        "![images.png](attachment:images.png)\n",
        "\n",
        "> we are going to increase the word counts to power 3/4\n",
        "> so that it tends to increase the probability of for less frequent words and decrease probability for frequent words\n",
        " \n",
        " EG \n",
        " \"\"\" The reason you can't usually start a sentence with “because” because “because” is a conjunction \"\"\"\n",
        " “because” occurs 3 times   \n",
        " 'conjunction' appears 1 time \n",
        " ### Unigram Distribution\n",
        "  "
      ]
    },
    {
      "cell_type": "code",
      "metadata": {
        "id": "OoJ2C7oICcyk"
      },
      "source": [
        "def neg_Sam_prob(self,corpus):\n",
        "    ns=counter()\n",
        "    ns.count_words(corpus)\n",
        "    voc=set()\n",
        "    word_count={}\n",
        "    \n",
        "    self.w2i={}\n",
        "    self.i2w={}\n",
        "    \n",
        "    for i,(w,c) in enumerate(ns.most_common()):\n",
        "        voc.add(w)\n",
        "        self.w2i[w]=i\n",
        "        self.i2w[i]=w\n",
        "        word_count[w]=c\n",
        "    \n",
        "    # to find the unigram distribution     probability for picking the word X would be equal to the number of times X appears in the corpus, divided the total number of words  in the corpus.\n",
        "   \n",
        "    self.unigram_dist=np.array(([i for i in word_count.values()]))\n",
        "    \n",
        "    #increase the word counts to power 3/4 \n",
        "    neg_samp_freq=self.unigram_dist ** 0.75 # this tends to increase probability of less frequent words and decrease probability of more frequent words /// not make less frequent more than high frequent\n",
        "    neg_samp_freq=neg_samp_freq/neg_samp_freq.sum()\n",
        "    return neg_samp_freq"
      ],
      "execution_count": null,
      "outputs": []
    },
    {
      "cell_type": "markdown",
      "metadata": {
        "id": "5LJwNVm-Ccyk"
      },
      "source": [
        "### subsampling\n",
        "the quick brown fox\n",
        "###### problems\n",
        "1) \" the quick\" the  do not tell much about the context of quick\n",
        "\n",
        "2) we have to learn a good vector for \"the\"\n",
        "\n",
        "In subsampling we are going to delete some words which are input and in context based on its frequencies\n",
        "\n",
        "ther is a parameter called sample which controls how much subsampling must be done\n",
        "\n",
        "![Eq2u8.png](attachment:Eq2u8.png)\n",
        "\n",
        "> if the frequency is less than 0.0026 its probability is 100% of staying\n",
        "\n",
        "> if freqyency is 0.00746 it is 50% chance of staying\n",
        "\n",
        "> if frequency is 1.0 it is 33% of staying\n"
      ]
    },
    {
      "cell_type": "code",
      "metadata": {
        "id": "6uIYGm79Ccyl"
      },
      "source": [
        "import random\n",
        "def subsampling(self,corpus,sample=0.01):\n",
        "    \n",
        "    word_freq=self.unigram_dist/self.unigram_dist.sum()\n",
        "   \n",
        "    word_drop_probability=1-np.sqrt(sample/word_freq)\n",
        "    \n",
        "    # Create  training data discarding some words based on word_drop_probability.\n",
        "    sampled_corpus=[]\n",
        "    for sent in corpus:\n",
        "        sentence=[]\n",
        "        for w in sent.split():\n",
        "            if(np.random.random() < 1- word_drop_probability[self.w2i[w]]):\n",
        "                sentence.append(w)\n",
        "               \n",
        "                \n",
        "        \n",
        "        sampled_corpus.append(' '.join(sentence))\n",
        "    return sampled_corpus\n",
        "                \n",
        "            \n",
        "           \n",
        "            \n",
        "    \n"
      ],
      "execution_count": null,
      "outputs": []
    },
    {
      "cell_type": "code",
      "metadata": {
        "id": "6p9LiKLSCcyl"
      },
      "source": [
        "def sigmoid(x):       \n",
        "   \n",
        "     return 1/(1 + np.exp(-x))\n",
        "\n",
        "def sigmoid_prime(x,o_r):    \n",
        "     \n",
        "        y=sigmoid(x)*(1-sigmoid(x))\n",
        "        return y*o_r\n",
        "class ActivationLayer(layer):\n",
        "    def __init__(self):\n",
        "       \n",
        "            self.activation = sigmoid\n",
        "            self.activation_prime = sigmoid_prime\n",
        "       \n",
        "\n",
        "    # returns the activated input\n",
        "    def forward(self, input_data):\n",
        "        self.input = input_data\n",
        "        output = self.activation(self.input)\n",
        "        return output\n",
        "\n",
        "    # Returns input_error=dE/dX for a given output_error=dE/dY.\n",
        " \n",
        "    def backward(self, output_error):\n",
        "        return self.activation_prime(self.input,output_error) "
      ],
      "execution_count": null,
      "outputs": []
    },
    {
      "cell_type": "code",
      "metadata": {
        "id": "PPiiSz4iCmMV"
      },
      "source": [
        "import tensorflow as tf\r\n"
      ],
      "execution_count": null,
      "outputs": []
    },
    {
      "cell_type": "markdown",
      "metadata": {
        "id": "W6cuGhWkCcyl"
      },
      "source": [
        "### How to do negative sampling ?\n"
      ]
    },
    {
      "cell_type": "code",
      "metadata": {
        "id": "CQPhtTHaCcyl"
      },
      "source": [
        "from datetime import datetime\n",
        "\n",
        "class skipgram_negsam():\n",
        "    def __init__(self,embedding_dim,voc_size):\n",
        "        # embedding layers are used to select particular index of a vetor thus saving time so in this case we are going to use embedding layer \n",
        "        #for both the layers because we are going to calculate probability for specifc words\n",
        "        self.voc_size=voc_size\n",
        "        self.embedding_layer1=Embedding(voc_size,embedding_dim)# used to take th vector dimension for input word\n",
        "        self.embedding_layer2=Embedding(voc_size,embedding_dim)# this layer is not going to do the work of calculating vectors for the word2vec\n",
        "                                                               # but this layer wiil take the  vector of input word and calculate the probabilities for its context only for the (context words and negative sampled words)\n",
        "        self.Activ=ActivationLayer()\n",
        "    def sgd(self,word,target,label,lr) :\n",
        "        \n",
        "        l1=self.embedding_layer1.forward(word) # vector of the word\n",
        "        l2=self.embedding_layer2.forward(target) #  target_words_weights(this layer takes the weights from all hidden units which gives the  context probility for the target words with respect to  input)\n",
        "        y_=self.Activ.forward(l1.dot(l2.T))\n",
        "        err=y_-label\n",
        "        \n",
        "        err_y=self.Activ.backward(err)\n",
        "\n",
        "        gl1=np.dot(err_y,l2)\n",
        "        gl2=np.dot(err_y.T,l1)\n",
        "      \n",
        "        x=self.embedding_layer1.backward(gl1,lr)\n",
        "        y=self.embedding_layer2.backward(gl2,lr)\n",
        "        \"\"\"\n",
        "        print(\"after word lookup\",l1)\n",
        "        print(\"after target lookup\",l2,l2.shape)\n",
        "        print(\" combine shape \",l1.dot(l2.T).shape)\n",
        "        print(\"output \",y_,\"     answer      \",label)\n",
        "        print(\"error  :\",err,err.sum())\n",
        "        print(\"error for word\",gl1.shape)\n",
        "        print(\"error for target\",gl2.shape)\n",
        "\n",
        "        print(\"words weight :\",self.embedding_layer1.forward(word))\n",
        "        print(\"target weight :\",self.embedding_layer2.forward(target))\n",
        "\n",
        "        l1=self.embedding_layer1.forward(word) # vector of the word\n",
        "        l2=self.embedding_layer2.forward(target) #  target_words_weights(this layer takes the weights from all hidden units which gives the  context probility for the target words with respect to  input)\n",
        "        y_=sigmoid(l1.dot(l2.T))\n",
        "        err=y_-label\n",
        "        print(\"output after update\",y_,\"     answer      \",label)\n",
        "        print(\"error after update :\",err,err.sum()) \n",
        "        \"\"\"\n",
        "        #       max prob word in context       min prob worn not in window\n",
        "\n",
        "        cost=(label * np.log(y_ + 1e-10) + (1 - label) * np.log(1 - y_ + 1e-10))*-1\n",
        "        #cost =  (np.log(y_ + 1e-10)).sum() # labels are 1\n",
        "        return cost.sum()/cost.size\n",
        "    \n",
        "    def get_neg_sample(self,k,probabilities):\n",
        "        neg_samples=np.random.choice(self.voc_size,size=( k), p=probabilities)\n",
        "        return neg_samples\n",
        "            \n",
        "        np.random.choice(vocab_size, p=p_neg)\n",
        "    def get_context(self,word,seq,window):\n",
        "        l=len(seq)   \n",
        "        start=max(0,word-window)\n",
        "        end=min(l,word+window+1)\n",
        "        \n",
        "        seq_context=[]\n",
        "        for j in (seq[start:end]):\n",
        "            if(j!=seq[word]):\n",
        "                seq_context.append(self.w2i[j])\n",
        "           \n",
        "        if(len(seq_context)==0):\n",
        "          print(start,word,end,l,seq[start:end])    \n",
        "          assert(1==2)\n",
        "        return seq_context\n",
        "    def get_dataset(self,corpus,window):\n",
        "        skpigramds=[]\n",
        "        for sentence in corpus:\n",
        "            sent=sentence.split()\n",
        "            if(len(sent)>3):\n",
        "              for w_i,w in enumerate(sent):\n",
        "                   con=[self.w2i[w],self.get_context(w_i,sent,window)] \n",
        "               \n",
        "                   skpigramds.append(con)\n",
        "                \n",
        "            \n",
        "        return skpigramds  \n",
        "    def fit(self,corpus,window,epochs,lr,K=5):\n",
        "        p_neg_sam=self.neg_Sam_prob(corpus)\n",
        "        \n",
        "        new_corpus=self.subsampling(corpus)\n",
        "       \n",
        "        dataset=self.get_dataset(new_corpus,window)\n",
        "        \n",
        "        self.window=window\n",
        "        self.batch_size=1\n",
        "        print(len(dataset))\n",
        "\n",
        "        for epc in range(epochs):\n",
        "            loss=[]\n",
        "            \n",
        "            for nom,[w,cont] in enumerate(dataset):                \n",
        "                i_p=np.array(([w])).reshape(self.batch_size)\n",
        "                neg_sam=self.get_neg_sample(K,p_neg_sam)\n",
        "                context=np.array(([cont])).reshape(-1)\n",
        "                #print(\"words:\",i_p,i_p.shape,'\\n context words :',context,context.shape)\n",
        "                cost=self.sgd(i_p,context,1,lr)+self.sgd(i_p,neg_sam,0,lr)\n",
        "                #print(cost)\n",
        "                #print(\"words:\",i_p,i_p.shape,'\\n neg_sam words :',neg_sam,neg_sam.shape)\n",
        "             \n",
        "                \n",
        "                #print(cost,\"\\n\\n\\n\\n\\n\\n\\n\")\n",
        "                loss.append(cost)\n",
        "                \n",
        "                if(nom%100000==0):\n",
        "                    print(epc,'\\t',nom,'  ',sum(loss)/len(loss),'  ',datetime.now().strftime(\"%H:%M:%S\"))  \n",
        "                    loss=[]\n",
        "            lr=lr- (0.05*lr)\n",
        "        \n",
        "    \"\"\" def test():\n",
        "        corpus={'king':0,\n",
        "                'queen':1,\n",
        "                'son':2,\n",
        "                'boys':3,\n",
        "                'dad':4\n",
        "               }\n",
        "        w1=Embedding(len(corpus),2)\n",
        "        w2=Embedding(len(corpus),2)\n",
        "        batch_size=1\n",
        "        x=np.array([corpus['king']]).reshape(1,)\n",
        "        y=np.array([corpus['queen'],corpus['son'],corpus['dad']]).reshape(-1,)\n",
        "        l1=w1.forward(x)\n",
        "        l2=w1.forward(y)\n",
        "        y_=l1.dot(l2.T)\n",
        "        err=y_-0\n",
        "        gl1=np.dot(err,l2)\n",
        "        gl2=np.dot(err.T,l1)\n",
        "        x=w1.backward(gl1,lr)\n",
        "        y=w1.backward(gl2,lr)\n",
        "        \n",
        "        \n",
        "        \n",
        "        print(l1.shape,l2.shape,y_.shape,gl1.shape,gl2.shape)\n",
        "        # z \n",
        "        return 1\"\"\"\n",
        "skipgram_negsam.neg_Sam_prob=neg_Sam_prob\n",
        "skipgram_negsam.subsampling=subsampling\n",
        "        "
      ],
      "execution_count": null,
      "outputs": []
    },
    {
      "cell_type": "code",
      "metadata": {
        "id": "C6qcuQfTCcym"
      },
      "source": [
        "v=len(vocabulary)\n",
        "y=skipgram_negsam(128,v)"
      ],
      "execution_count": null,
      "outputs": []
    },
    {
      "cell_type": "code",
      "metadata": {
        "colab": {
          "base_uri": "https://localhost:8080/",
          "height": 381
        },
        "id": "K0jyL8RoCcym",
        "outputId": "a5bbbd10-2e52-4802-ca7f-c6041135bb76"
      },
      "source": [
        "y.fit(dataset,10,20,0.001,K=5)"
      ],
      "execution_count": null,
      "outputs": [
        {
          "output_type": "stream",
          "text": [
            "927146\n",
            "0 \t 0    1.822396267162099    15:56:15\n",
            "0 \t 100000    1.7138473955881537    15:58:03\n",
            "0 \t 200000    1.6778328651138892    15:59:51\n"
          ],
          "name": "stdout"
        },
        {
          "output_type": "error",
          "ename": "KeyboardInterrupt",
          "evalue": "ignored",
          "traceback": [
            "\u001b[0;31m---------------------------------------------------------------------------\u001b[0m",
            "\u001b[0;31mKeyboardInterrupt\u001b[0m                         Traceback (most recent call last)",
            "\u001b[0;32m<ipython-input-23-6022c162d7e9>\u001b[0m in \u001b[0;36m<module>\u001b[0;34m()\u001b[0m\n\u001b[0;32m----> 1\u001b[0;31m \u001b[0my\u001b[0m\u001b[0;34m.\u001b[0m\u001b[0mfit\u001b[0m\u001b[0;34m(\u001b[0m\u001b[0mdataset\u001b[0m\u001b[0;34m,\u001b[0m\u001b[0;36m10\u001b[0m\u001b[0;34m,\u001b[0m\u001b[0;36m20\u001b[0m\u001b[0;34m,\u001b[0m\u001b[0;36m0.001\u001b[0m\u001b[0;34m,\u001b[0m\u001b[0mK\u001b[0m\u001b[0;34m=\u001b[0m\u001b[0;36m5\u001b[0m\u001b[0;34m)\u001b[0m\u001b[0;34m\u001b[0m\u001b[0;34m\u001b[0m\u001b[0m\n\u001b[0m",
            "\u001b[0;32m<ipython-input-16-55e6fd5da611>\u001b[0m in \u001b[0;36mfit\u001b[0;34m(self, corpus, window, epochs, lr, K)\u001b[0m\n\u001b[1;32m     99\u001b[0m                 \u001b[0mcontext\u001b[0m\u001b[0;34m=\u001b[0m\u001b[0mnp\u001b[0m\u001b[0;34m.\u001b[0m\u001b[0marray\u001b[0m\u001b[0;34m(\u001b[0m\u001b[0;34m(\u001b[0m\u001b[0;34m[\u001b[0m\u001b[0mcont\u001b[0m\u001b[0;34m]\u001b[0m\u001b[0;34m)\u001b[0m\u001b[0;34m)\u001b[0m\u001b[0;34m.\u001b[0m\u001b[0mreshape\u001b[0m\u001b[0;34m(\u001b[0m\u001b[0;34m-\u001b[0m\u001b[0;36m1\u001b[0m\u001b[0;34m)\u001b[0m\u001b[0;34m\u001b[0m\u001b[0;34m\u001b[0m\u001b[0m\n\u001b[1;32m    100\u001b[0m                 \u001b[0;31m#print(\"words:\",i_p,i_p.shape,'\\n context words :',context,context.shape)\u001b[0m\u001b[0;34m\u001b[0m\u001b[0;34m\u001b[0m\u001b[0;34m\u001b[0m\u001b[0m\n\u001b[0;32m--> 101\u001b[0;31m                 \u001b[0mcost\u001b[0m\u001b[0;34m=\u001b[0m\u001b[0mself\u001b[0m\u001b[0;34m.\u001b[0m\u001b[0msgd\u001b[0m\u001b[0;34m(\u001b[0m\u001b[0mi_p\u001b[0m\u001b[0;34m,\u001b[0m\u001b[0mcontext\u001b[0m\u001b[0;34m,\u001b[0m\u001b[0;36m1\u001b[0m\u001b[0;34m,\u001b[0m\u001b[0mlr\u001b[0m\u001b[0;34m)\u001b[0m\u001b[0;34m+\u001b[0m\u001b[0mself\u001b[0m\u001b[0;34m.\u001b[0m\u001b[0msgd\u001b[0m\u001b[0;34m(\u001b[0m\u001b[0mi_p\u001b[0m\u001b[0;34m,\u001b[0m\u001b[0mneg_sam\u001b[0m\u001b[0;34m,\u001b[0m\u001b[0;36m0\u001b[0m\u001b[0;34m,\u001b[0m\u001b[0mlr\u001b[0m\u001b[0;34m)\u001b[0m\u001b[0;34m\u001b[0m\u001b[0;34m\u001b[0m\u001b[0m\n\u001b[0m\u001b[1;32m    102\u001b[0m                 \u001b[0;31m#print(cost)\u001b[0m\u001b[0;34m\u001b[0m\u001b[0;34m\u001b[0m\u001b[0;34m\u001b[0m\u001b[0m\n\u001b[1;32m    103\u001b[0m                 \u001b[0;31m#print(\"words:\",i_p,i_p.shape,'\\n neg_sam words :',neg_sam,neg_sam.shape)\u001b[0m\u001b[0;34m\u001b[0m\u001b[0;34m\u001b[0m\u001b[0;34m\u001b[0m\u001b[0m\n",
            "\u001b[0;32m<ipython-input-16-55e6fd5da611>\u001b[0m in \u001b[0;36msgd\u001b[0;34m(self, word, target, label, lr)\u001b[0m\n\u001b[1;32m     23\u001b[0m \u001b[0;34m\u001b[0m\u001b[0m\n\u001b[1;32m     24\u001b[0m         \u001b[0mx\u001b[0m\u001b[0;34m=\u001b[0m\u001b[0mself\u001b[0m\u001b[0;34m.\u001b[0m\u001b[0membedding_layer1\u001b[0m\u001b[0;34m.\u001b[0m\u001b[0mbackward\u001b[0m\u001b[0;34m(\u001b[0m\u001b[0mgl1\u001b[0m\u001b[0;34m,\u001b[0m\u001b[0mlr\u001b[0m\u001b[0;34m)\u001b[0m\u001b[0;34m\u001b[0m\u001b[0;34m\u001b[0m\u001b[0m\n\u001b[0;32m---> 25\u001b[0;31m         \u001b[0my\u001b[0m\u001b[0;34m=\u001b[0m\u001b[0mself\u001b[0m\u001b[0;34m.\u001b[0m\u001b[0membedding_layer2\u001b[0m\u001b[0;34m.\u001b[0m\u001b[0mbackward\u001b[0m\u001b[0;34m(\u001b[0m\u001b[0mgl2\u001b[0m\u001b[0;34m,\u001b[0m\u001b[0mlr\u001b[0m\u001b[0;34m)\u001b[0m\u001b[0;34m\u001b[0m\u001b[0;34m\u001b[0m\u001b[0m\n\u001b[0m\u001b[1;32m     26\u001b[0m         \"\"\"\n\u001b[1;32m     27\u001b[0m         \u001b[0mprint\u001b[0m\u001b[0;34m(\u001b[0m\u001b[0;34m\"after word lookup\"\u001b[0m\u001b[0;34m,\u001b[0m\u001b[0ml1\u001b[0m\u001b[0;34m)\u001b[0m\u001b[0;34m\u001b[0m\u001b[0;34m\u001b[0m\u001b[0m\n",
            "\u001b[0;32m<ipython-input-11-8b713616989b>\u001b[0m in \u001b[0;36mbackward\u001b[0;34m(self, output_error, lr)\u001b[0m\n\u001b[1;32m     26\u001b[0m \u001b[0;34m\u001b[0m\u001b[0m\n\u001b[1;32m     27\u001b[0m         \u001b[0;32mfor\u001b[0m \u001b[0mi\u001b[0m\u001b[0;34m,\u001b[0m\u001b[0mind\u001b[0m \u001b[0;32min\u001b[0m \u001b[0menumerate\u001b[0m\u001b[0;34m(\u001b[0m\u001b[0mk\u001b[0m\u001b[0;34m.\u001b[0m\u001b[0mT\u001b[0m\u001b[0;34m)\u001b[0m\u001b[0;34m:\u001b[0m\u001b[0;34m\u001b[0m\u001b[0;34m\u001b[0m\u001b[0m\n\u001b[0;32m---> 28\u001b[0;31m             \u001b[0mself\u001b[0m\u001b[0;34m.\u001b[0m\u001b[0memb_mat\u001b[0m\u001b[0;34m[\u001b[0m\u001b[0mind\u001b[0m\u001b[0;34m]\u001b[0m\u001b[0;34m-=\u001b[0m\u001b[0;34m(\u001b[0m\u001b[0mo_R\u001b[0m\u001b[0;34m[\u001b[0m\u001b[0mi\u001b[0m\u001b[0;34m]\u001b[0m\u001b[0;34m*\u001b[0m\u001b[0mlr\u001b[0m\u001b[0;34m)\u001b[0m\u001b[0;34m\u001b[0m\u001b[0;34m\u001b[0m\u001b[0m\n\u001b[0m\u001b[1;32m     29\u001b[0m \u001b[0;34m\u001b[0m\u001b[0m\n\u001b[1;32m     30\u001b[0m         \u001b[0;32mreturn\u001b[0m \u001b[0;36m1\u001b[0m\u001b[0;34m\u001b[0m\u001b[0;34m\u001b[0m\u001b[0m\n",
            "\u001b[0;31mKeyboardInterrupt\u001b[0m: "
          ]
        }
      ]
    },
    {
      "cell_type": "code",
      "metadata": {
        "id": "0MSrB7XJziGU"
      },
      "source": [
        "print(len(inputs),len(outputs))\r\n",
        "print(inputs[0])\r\n"
      ],
      "execution_count": null,
      "outputs": []
    },
    {
      "cell_type": "markdown",
      "metadata": {
        "id": "jJJeVrrCCcyn"
      },
      "source": [
        "![word2vec-skip-gram.png](attachment:word2vec-skip-gram.png)\n"
      ]
    },
    {
      "cell_type": "markdown",
      "metadata": {
        "id": "C7v1HWYiCcyn"
      },
      "source": [
        "So the first matrics will be responsible for taking the hidden dimension of the given word (1,embedd_dim)(same)\n",
        "\n",
        "second layer will take the vector of the input  word and ( do not calculate probabilitis for all the words in the vocabulary[y0,y1,y2....yv] instaed it just calculates only for) [y2,y3] all others are ignored ( that's why we use embedding as second layer) (the yellow lines are removed) and it calculates loss only for the context words and thus they are only updated\n",
        "\n",
        "instead of calculating loss for all negative samples(non context words) we  only calculte for random K words from(y1,y4,y5...yv) and update their weights as a non context words instad of backpropagating all of them\n",
        "\n",
        "\n",
        "first layer  (lets take hidden_dim x)\n",
        "(1,x)\n",
        "the second layer is (no_of_target_words,hidden_dim)\n",
        "(n,x)\n",
        "\n",
        "we need the probabilities for only n words\n",
        "brob is scalar\n",
        "(1,x)dot(x,n)=>(1,n)\n"
      ]
    },
    {
      "cell_type": "code",
      "metadata": {
        "id": "nS0GJ7OfCcyn"
      },
      "source": [
        "import matplotlib.pyplot as plt\n",
        "from sklearn.manifold import TSNE\n",
        "lookup=(y.embedding_layer1.emb_mat)\n",
        "top_k=25\n",
        "tsne = TSNE(metric='cosine')\n",
        "embed_tsne = tsne.fit_transform(lookup[:100, :])\n",
        "fig, ax = plt.subplots(figsize=(14, 14))\n",
        "for idx in range(top_k):\n",
        "        plt.scatter(*embed_tsne[idx, :])\n",
        "        plt.annotate(y.i2w[idx], (embed_tsne[idx, 0], embed_tsne[idx, 1]), alpha=0.5)\n",
        "# without training"
      ],
      "execution_count": null,
      "outputs": []
    },
    {
      "cell_type": "code",
      "metadata": {
        "colab": {
          "base_uri": "https://localhost:8080/",
          "height": 809
        },
        "id": "SxQMAmFvCcyn",
        "outputId": "1f8e0cc7-185d-47f7-cd86-ed02eecb357a"
      },
      "source": [
        "import matplotlib.pyplot as plt\n",
        "from sklearn.manifold import TSNE\n",
        "lookup=(y.embedding_layer1.emb_mat+y.embedding_layer2.emb_mat)\n",
        "top_k=100\n",
        "tsne = TSNE(metric='cosine')\n",
        "embed_tsne = tsne.fit_transform(lookup[:300, :])\n",
        "fig, ax = plt.subplots(figsize=(14, 14))\n",
        "for idx in range(top_k):\n",
        "        plt.scatter(*embed_tsne[idx, :])\n",
        "        plt.annotate(y.i2w[idx], (embed_tsne[idx, 0], embed_tsne[idx, 1]), alpha=0.5)\n",
        "# after training"
      ],
      "execution_count": null,
      "outputs": [
        {
          "output_type": "display_data",
          "data": {
            "image/png": "[encoded data removed]",
            "text/plain": [
              "<Figure size 1008x1008 with 1 Axes>"
            ]
          },
          "metadata": {
            "tags": [],
            "needs_background": "light"
          }
        }
      ]
    },
    {
      "cell_type": "code",
      "metadata": {
        "id": "q9WPd_zpCcyo"
      },
      "source": [
        ""
      ],
      "execution_count": null,
      "outputs": []
    }
  ]
}